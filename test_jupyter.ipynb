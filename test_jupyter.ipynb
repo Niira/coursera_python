{
 "cells": [
  {
   "cell_type": "code",
   "execution_count": 15,
   "metadata": {},
   "outputs": [
    {
     "name": "stdout",
     "output_type": "stream",
     "text": [
      "['10\\n', '1 2 3 4 5 6 7 8 9 10\\n', 'YES\\n', '1\\n', 'NO\\n', '2\\n', 'NO\\n', '3\\n', 'NO\\n', '4\\n', 'NO\\n', '6\\n', 'NO\\n', '7\\n', 'NO\\n', '8\\n', 'NO\\n', '9\\n', 'NO\\n', '10\\n', 'NO\\n', 'HELP\\n']\n",
      "[<map object at 0x00765850>, <map object at 0x00765C10>, <map object at 0x007658F0>, <map object at 0x00765FD0>, <map object at 0x007657F0>, <map object at 0x00765770>, <map object at 0x007656B0>, <map object at 0x00765630>, <map object at 0x00765530>, <map object at 0x007654F0>, <map object at 0x007653B0>, <map object at 0x00765570>, <map object at 0x007652B0>, <map object at 0x007651B0>, <map object at 0x00765230>, <map object at 0x00738850>, <map object at 0x00738F50>, <map object at 0x00738090>, <map object at 0x00738D30>, <map object at 0x00738CD0>, <map object at 0x00738C70>, <map object at 0x00738C10>]\n"
     ]
    }
   ],
   "source": [
    "fin = open('input.txt', 'r', encoding='utf8')\n",
    "temp_answers = fin.readlines()\n",
    "fin.close()\n",
    "fin = open('input.txt', 'r', encoding='utf8')\n",
    "answers = list(map(str, line.split()) for line in fin.readlines())\n",
    "print(temp_answers)\n",
    "print(answers)\n",
    "\n"
   ]
  },
  {
   "cell_type": "code",
   "execution_count": null,
   "metadata": {},
   "outputs": [],
   "source": [
    "n = int(answers[0][0])\n",
    "answers = answers[1:-1]\n",
    "\n",
    "for i in range(0, len(answers), 2):\n",
    "    for j in range(len(answers[i])):\n",
    "        answers[i][j] = int(answers[i][j])\n",
    "print(answers)\n",
    "posible_set = set(range(n + 1))\n",
    "print(posible_set)\n",
    "for i in range(1, len(answers), 2):\n",
    "    if answers[i][0] == 'YES':\n",
    "        posible_set = posible_set & set(answers[i - 1])\n",
    "    else:\n",
    "        for number in answers[i - 1]:\n",
    "            posible_set.discard(number)\n",
    "\n",
    "print(*posible_set, file=fout)\n",
    "print(*posible_set)\n",
    "fin.close()\n",
    "fout.close()"
   ]
  },
  {
   "cell_type": "code",
   "execution_count": null,
   "metadata": {
    "collapsed": true
   },
   "outputs": [],
   "source": []
  }
 ],
 "metadata": {
  "kernelspec": {
   "display_name": "Python 3",
   "language": "python",
   "name": "python3"
  },
  "language_info": {
   "codemirror_mode": {
    "name": "ipython",
    "version": 3
   },
   "file_extension": ".py",
   "mimetype": "text/x-python",
   "name": "python",
   "nbconvert_exporter": "python",
   "pygments_lexer": "ipython3",
   "version": "3.6.2"
  }
 },
 "nbformat": 4,
 "nbformat_minor": 2
}
